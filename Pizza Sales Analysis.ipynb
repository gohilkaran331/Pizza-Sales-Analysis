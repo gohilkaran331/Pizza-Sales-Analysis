{
  "nbformat": 4,
  "nbformat_minor": 0,
  "metadata": {
    "colab": {
      "provenance": []
    },
    "kernelspec": {
      "name": "python3",
      "display_name": "Python 3"
    },
    "language_info": {
      "name": "python"
    }
  },
  "cells": [
    {
      "cell_type": "code",
      "source": [
        "pip install pandasql"
      ],
      "metadata": {
        "colab": {
          "base_uri": "https://localhost:8080/"
        },
        "id": "bafFyqWY_dSY",
        "outputId": "5fd71114-afad-4a5a-a8f3-11a31082a37b"
      },
      "execution_count": null,
      "outputs": [
        {
          "output_type": "stream",
          "name": "stdout",
          "text": [
            "Collecting pandasql\n",
            "  Downloading pandasql-0.7.3.tar.gz (26 kB)\n",
            "  Preparing metadata (setup.py) ... \u001b[?25l\u001b[?25hdone\n",
            "Requirement already satisfied: numpy in /usr/local/lib/python3.10/dist-packages (from pandasql) (1.25.2)\n",
            "Requirement already satisfied: pandas in /usr/local/lib/python3.10/dist-packages (from pandasql) (2.0.3)\n",
            "Requirement already satisfied: sqlalchemy in /usr/local/lib/python3.10/dist-packages (from pandasql) (2.0.31)\n",
            "Requirement already satisfied: python-dateutil>=2.8.2 in /usr/local/lib/python3.10/dist-packages (from pandas->pandasql) (2.8.2)\n",
            "Requirement already satisfied: pytz>=2020.1 in /usr/local/lib/python3.10/dist-packages (from pandas->pandasql) (2023.4)\n",
            "Requirement already satisfied: tzdata>=2022.1 in /usr/local/lib/python3.10/dist-packages (from pandas->pandasql) (2024.1)\n",
            "Requirement already satisfied: typing-extensions>=4.6.0 in /usr/local/lib/python3.10/dist-packages (from sqlalchemy->pandasql) (4.12.2)\n",
            "Requirement already satisfied: greenlet!=0.4.17 in /usr/local/lib/python3.10/dist-packages (from sqlalchemy->pandasql) (3.0.3)\n",
            "Requirement already satisfied: six>=1.5 in /usr/local/lib/python3.10/dist-packages (from python-dateutil>=2.8.2->pandas->pandasql) (1.16.0)\n",
            "Building wheels for collected packages: pandasql\n",
            "  Building wheel for pandasql (setup.py) ... \u001b[?25l\u001b[?25hdone\n",
            "  Created wheel for pandasql: filename=pandasql-0.7.3-py3-none-any.whl size=26771 sha256=d3356634f49d4aeadb5002fe6dea8fb4ff647f9c4829e5f836f7e58a67342e15\n",
            "  Stored in directory: /root/.cache/pip/wheels/e9/bc/3a/8434bdcccf5779e72894a9b24fecbdcaf97940607eaf4bcdf9\n",
            "Successfully built pandasql\n",
            "Installing collected packages: pandasql\n",
            "Successfully installed pandasql-0.7.3\n"
          ]
        }
      ]
    },
    {
      "cell_type": "code",
      "source": [
        "import pandas as pd\n",
        "import pandasql as psql"
      ],
      "metadata": {
        "id": "yiGwU6ey_oOf"
      },
      "execution_count": null,
      "outputs": []
    },
    {
      "cell_type": "code",
      "execution_count": null,
      "metadata": {
        "id": "8dPbg7HO-oFe"
      },
      "outputs": [],
      "source": [
        "orders = pd.read_csv('orders.csv_orders.csv.csv')\n",
        "order_details = pd.read_csv('order_details.csv_order_details.csv.csv')\n",
        "pizza_types = pd.read_csv('pizza_types.csv_pizza_types.csv.csv', encoding='ISO-8859-1')\n",
        "pizzas = pd.read_csv('pizzas.csv_pizzas.csv.csv')"
      ]
    },
    {
      "cell_type": "code",
      "source": [
        "# Q1: The total number of orders placed\n",
        "query1 = \"\"\"\n",
        "SELECT COUNT(*) AS total_orders\n",
        "FROM orders;\n",
        "\"\"\"\n",
        "\n",
        "# Execute the query\n",
        "result1 = psql.sqldf(query1, locals())\n",
        "print(result1)"
      ],
      "metadata": {
        "colab": {
          "base_uri": "https://localhost:8080/"
        },
        "id": "1zyxrxf5_r5z",
        "outputId": "7d72f40d-3031-4329-ca0f-1ecc266534e1"
      },
      "execution_count": null,
      "outputs": [
        {
          "output_type": "stream",
          "name": "stdout",
          "text": [
            "   total_orders\n",
            "0         21350\n"
          ]
        }
      ]
    },
    {
      "cell_type": "code",
      "source": [
        "# Q2: The total revenue generated from pizza sales\n",
        "query2 = \"\"\"\n",
        "SELECT ROUND(SUM(p.price * od.quantity), 2) AS total_revenue\n",
        "FROM order_details od\n",
        "JOIN pizzas p ON od.pizza_id = p.pizza_id;\n",
        "\"\"\"\n",
        "# Execute the query\n",
        "result2 = psql.sqldf(query2, locals())\n",
        "print(result2)"
      ],
      "metadata": {
        "colab": {
          "base_uri": "https://localhost:8080/"
        },
        "id": "-P96NAzcBtrJ",
        "outputId": "89124715-3447-40b1-ec1c-d06fa7885e7e"
      },
      "execution_count": null,
      "outputs": [
        {
          "output_type": "stream",
          "name": "stdout",
          "text": [
            "   total_revenue\n",
            "0      817860.05\n"
          ]
        }
      ]
    },
    {
      "cell_type": "code",
      "source": [
        "# Q3: The highest priced pizza\n",
        "query3 = \"\"\"\n",
        "SELECT p.pizza_id, pt.name, p.size, p.price\n",
        "FROM pizzas p\n",
        "JOIN pizza_types pt ON p.pizza_type_id = pt.pizza_type_id\n",
        "ORDER BY p.price DESC\n",
        "LIMIT 1;\n",
        "\"\"\"\n",
        "# Execute the query\n",
        "result3 = psql.sqldf(query3, locals())\n",
        "print(result3)"
      ],
      "metadata": {
        "colab": {
          "base_uri": "https://localhost:8080/"
        },
        "id": "cyYHFJI0DyXe",
        "outputId": "a38003ab-270a-4851-a390-74fc4850eef9"
      },
      "execution_count": null,
      "outputs": [
        {
          "output_type": "stream",
          "name": "stdout",
          "text": [
            "        pizza_id             name size  price\n",
            "0  the_greek_xxl  The Greek Pizza  XXL  35.95\n"
          ]
        }
      ]
    },
    {
      "cell_type": "code",
      "source": [
        "# Q4: The most common pizza size ordered\n",
        "query4 = \"\"\"\n",
        "SELECT p.size, COUNT(*) AS order_count\n",
        "FROM order_details od\n",
        "JOIN pizzas p ON od.pizza_id = p.pizza_id\n",
        "GROUP BY p.size\n",
        "ORDER BY order_count DESC LIMIT 1;\n",
        "\"\"\"\n",
        "# Execute the query\n",
        "result4 = psql.sqldf(query4, locals())\n",
        "print(result4)"
      ],
      "metadata": {
        "colab": {
          "base_uri": "https://localhost:8080/"
        },
        "id": "W_r_crC3EHVy",
        "outputId": "4defeb5c-2b49-4600-ff7c-e6c4cf463713"
      },
      "execution_count": null,
      "outputs": [
        {
          "output_type": "stream",
          "name": "stdout",
          "text": [
            "  size  order_count\n",
            "0    L        18526\n"
          ]
        }
      ]
    },
    {
      "cell_type": "code",
      "source": [
        "# Q5: The top 5 most ordered pizza types along with their quantities\n",
        "query5 = \"\"\"\n",
        "SELECT pt.name, SUM(od.quantity) AS total_quantity\n",
        "FROM order_details od\n",
        "JOIN pizzas p ON od.pizza_id = p.pizza_id\n",
        "JOIN pizza_types pt ON p.pizza_type_id = pt.pizza_type_id\n",
        "GROUP BY pt.name\n",
        "ORDER BY total_quantity DESC\n",
        "LIMIT 5;\n",
        "\"\"\"\n",
        "# Execute the query\n",
        "result5 = psql.sqldf(query5, locals())\n",
        "print(result5)"
      ],
      "metadata": {
        "colab": {
          "base_uri": "https://localhost:8080/"
        },
        "id": "nf2yx2GNGCTy",
        "outputId": "314744ff-e86e-42dc-a52e-a893b4b6faf0"
      },
      "execution_count": null,
      "outputs": [
        {
          "output_type": "stream",
          "name": "stdout",
          "text": [
            "                         name  total_quantity\n",
            "0    The Classic Deluxe Pizza            2453\n",
            "1  The Barbecue Chicken Pizza            2432\n",
            "2          The Hawaiian Pizza            2422\n",
            "3         The Pepperoni Pizza            2418\n",
            "4      The Thai Chicken Pizza            2371\n"
          ]
        }
      ]
    },
    {
      "cell_type": "code",
      "source": [
        "# Q6: The quantity of each pizza category ordered\n",
        "query6 = \"\"\"\n",
        "SELECT pt.category, SUM(od.quantity) AS total_quantity\n",
        "FROM order_details od\n",
        "JOIN pizzas p ON od.pizza_id = p.pizza_id\n",
        "JOIN pizza_types pt ON p.pizza_type_id = pt.pizza_type_id\n",
        "GROUP BY pt.category\n",
        "ORDER BY total_quantity DESC;\n",
        "\"\"\"\n",
        "# Execute the query\n",
        "result6 = psql.sqldf(query6, locals())\n",
        "print(result6)"
      ],
      "metadata": {
        "colab": {
          "base_uri": "https://localhost:8080/"
        },
        "id": "Kw-bbZCIGQsF",
        "outputId": "e80cc06c-fe94-4d8d-b3f4-d63c11d49a9e"
      },
      "execution_count": null,
      "outputs": [
        {
          "output_type": "stream",
          "name": "stdout",
          "text": [
            "  category  total_quantity\n",
            "0  Classic           14888\n",
            "1  Supreme           11987\n",
            "2   Veggie           11649\n",
            "3  Chicken           11050\n"
          ]
        }
      ]
    },
    {
      "cell_type": "code",
      "source": [
        "# Q7: The distribution of orders by hours of the day\n",
        "query7 = \"\"\"\n",
        "SELECT SUBSTR(time, 1, 2) AS hour, COUNT(*) AS order_count\n",
        "FROM orders\n",
        "GROUP BY hour\n",
        "ORDER BY hour;\n",
        "\"\"\"\n",
        "# Execute the query\n",
        "result7 = psql.sqldf(query7, locals())\n",
        "print(result7)"
      ],
      "metadata": {
        "colab": {
          "base_uri": "https://localhost:8080/"
        },
        "id": "Nn14PWIXIYM8",
        "outputId": "0ebcc6fa-762f-4624-8e04-202657cc9aa6"
      },
      "execution_count": null,
      "outputs": [
        {
          "output_type": "stream",
          "name": "stdout",
          "text": [
            "   hour  order_count\n",
            "0    09            1\n",
            "1    10            8\n",
            "2    11         1231\n",
            "3    12         2520\n",
            "4    13         2455\n",
            "5    14         1472\n",
            "6    15         1468\n",
            "7    16         1920\n",
            "8    17         2336\n",
            "9    18         2399\n",
            "10   19         2009\n",
            "11   20         1642\n",
            "12   21         1198\n",
            "13   22          663\n",
            "14   23           28\n"
          ]
        }
      ]
    },
    {
      "cell_type": "code",
      "source": [
        "# Q8: The category-wise distribution of pizzas\n",
        "query8 = \"\"\"\n",
        "SELECT pt.category, COUNT(*) AS pizza_count\n",
        "FROM pizzas p\n",
        "JOIN pizza_types pt ON p.pizza_type_id = pt.pizza_type_id\n",
        "GROUP BY pt.category;\n",
        "\"\"\"\n",
        "\n",
        "# Execute the query\n",
        "result8 = psql.sqldf(query8, locals())\n",
        "print(result8)"
      ],
      "metadata": {
        "colab": {
          "base_uri": "https://localhost:8080/"
        },
        "id": "VH1O1MOeInvl",
        "outputId": "fa837802-bfe2-4260-bedf-29fff1e49a73"
      },
      "execution_count": null,
      "outputs": [
        {
          "output_type": "stream",
          "name": "stdout",
          "text": [
            "  category  pizza_count\n",
            "0  Chicken           18\n",
            "1  Classic           26\n",
            "2  Supreme           25\n",
            "3   Veggie           27\n"
          ]
        }
      ]
    },
    {
      "cell_type": "code",
      "source": [
        "# Q9: The average number of pizzas ordered per day\n",
        "query9 = \"\"\"\n",
        "SELECT ROUND(AVG(daily_orders), 2) AS avg_pizzas_per_day\n",
        "FROM (\n",
        "    SELECT date, COUNT(*) AS daily_orders\n",
        "    FROM orders\n",
        "    GROUP BY date\n",
        ") AS daily;\n",
        "\"\"\"\n",
        "\n",
        "# Execute the query\n",
        "result9 = psql.sqldf(query9, locals())\n",
        "print(result9)"
      ],
      "metadata": {
        "colab": {
          "base_uri": "https://localhost:8080/"
        },
        "id": "3ZS7COfyI-v7",
        "outputId": "76403f6c-a8e3-4b0e-df7c-5f70625cc474"
      },
      "execution_count": null,
      "outputs": [
        {
          "output_type": "stream",
          "name": "stdout",
          "text": [
            "   avg_pizzas_per_day\n",
            "0               59.64\n"
          ]
        }
      ]
    },
    {
      "cell_type": "code",
      "source": [
        "# Q10: Top 3 most ordered pizza types based on revenue\n",
        "query10 = \"\"\"\n",
        "SELECT pt.name, ROUND(SUM(p.price * od.quantity), 2) AS total_revenue\n",
        "FROM order_details od\n",
        "JOIN pizzas p ON od.pizza_id = p.pizza_id\n",
        "JOIN pizza_types pt ON p.pizza_type_id = pt.pizza_type_id\n",
        "GROUP BY pt.name\n",
        "ORDER BY total_revenue DESC\n",
        "LIMIT 3;\n",
        "\"\"\"\n",
        "\n",
        "# Execute the query\n",
        "result10 = psql.sqldf(query10, locals())\n",
        "print(result10)"
      ],
      "metadata": {
        "colab": {
          "base_uri": "https://localhost:8080/"
        },
        "id": "cEP4ZLFqJIVZ",
        "outputId": "61e48c37-2006-4f87-f211-a1aff9fb1aaa"
      },
      "execution_count": null,
      "outputs": [
        {
          "output_type": "stream",
          "name": "stdout",
          "text": [
            "                           name  total_revenue\n",
            "0        The Thai Chicken Pizza       43434.25\n",
            "1    The Barbecue Chicken Pizza       42768.00\n",
            "2  The California Chicken Pizza       41409.50\n"
          ]
        }
      ]
    },
    {
      "cell_type": "code",
      "source": [
        "# Q11: The percentage contribution of each pizza type to revenue\n",
        "query11 = \"\"\"\n",
        "SELECT pt.name, ROUND((SUM(p.price * od.quantity) / total_revenue.total) * 100, 2) AS percentage_contribution\n",
        "FROM order_details od\n",
        "JOIN pizzas p ON od.pizza_id = p.pizza_id\n",
        "JOIN pizza_types pt ON p.pizza_type_id = pt.pizza_type_id\n",
        "JOIN (SELECT SUM(p.price * od.quantity) AS total FROM order_details od JOIN pizzas p ON od.pizza_id = p.pizza_id) AS total_revenue\n",
        "GROUP BY pt.name\n",
        "ORDER BY percentage_contribution DESC;\n",
        "\"\"\"\n",
        "\n",
        "# Execute the query\n",
        "result11 = psql.sqldf(query11, locals())\n",
        "print(result11)"
      ],
      "metadata": {
        "colab": {
          "base_uri": "https://localhost:8080/"
        },
        "id": "G-XfZXcdJ7Ca",
        "outputId": "76a62b86-ce1d-4a7e-95c9-38cab5d52bc3"
      },
      "execution_count": null,
      "outputs": [
        {
          "output_type": "stream",
          "name": "stdout",
          "text": [
            "                                          name  percentage_contribution\n",
            "0                       The Thai Chicken Pizza                     5.31\n",
            "1                   The Barbecue Chicken Pizza                     5.23\n",
            "2                 The California Chicken Pizza                     5.06\n",
            "3                     The Classic Deluxe Pizza                     4.67\n",
            "4                      The Spicy Italian Pizza                     4.26\n",
            "5                  The Southwest Chicken Pizza                     4.24\n",
            "6                    The Italian Supreme Pizza                     4.09\n",
            "7                           The Hawaiian Pizza                     3.95\n",
            "8                        The Four Cheese Pizza                     3.95\n",
            "9                           The Sicilian Pizza                     3.78\n",
            "10                         The Pepperoni Pizza                     3.69\n",
            "11                             The Greek Pizza                     3.48\n",
            "12                          The Mexicana Pizza                     3.27\n",
            "13                       The Five Cheese Pizza                     3.19\n",
            "14                     The Pepper Salami Pizza                     3.12\n",
            "15                 The Italian Capocollo Pizza                     3.07\n",
            "16           The Vegetables + Vegetables Pizza                     2.98\n",
            "17            The Prosciutto and Arugula Pizza                     2.96\n",
            "18                        The Napolitana Pizza                     2.95\n",
            "19                  The Spinach and Feta Pizza                     2.85\n",
            "20                          The Big Meat Pizza                     2.81\n",
            "21  The Pepperoni, Mushroom, and Peppers Pizza                     2.30\n",
            "22                   The Chicken Alfredo Pizza                     2.07\n",
            "23                     The Chicken Pesto Pizza                     2.04\n",
            "24                       The Soppressata Pizza                     2.01\n",
            "25                The Italian Vegetables Pizza                     1.96\n",
            "26                         The Calabrese Pizza                     1.95\n",
            "27                     The Spinach Pesto Pizza                     1.91\n",
            "28                     The Mediterranean Pizza                     1.88\n",
            "29                   The Spinach Supreme Pizza                     1.87\n",
            "30                      The Green Garden Pizza                     1.71\n",
            "31                        The Brie Carre Pizza                     1.42\n"
          ]
        }
      ]
    },
    {
      "cell_type": "code",
      "source": [
        "# Q12: The cumulative revenue generated over time\n",
        "query12 = \"\"\"\n",
        "SELECT date, SUM(daily_revenue) OVER (ORDER BY date) AS cumulative_revenue\n",
        "FROM (\n",
        "    SELECT date, SUM(p.price * od.quantity) AS daily_revenue\n",
        "    FROM orders o\n",
        "    JOIN order_details od ON o.order_id = od.order_id\n",
        "    JOIN pizzas p ON od.pizza_id = p.pizza_id\n",
        "    GROUP BY date\n",
        ") AS daily;\n",
        "\"\"\"\n",
        "\n",
        "# Execute the query\n",
        "result12 = psql.sqldf(query12, locals())\n",
        "print(result12)"
      ],
      "metadata": {
        "colab": {
          "base_uri": "https://localhost:8080/"
        },
        "id": "O1VXquIlKCQa",
        "outputId": "d076bfd1-9cdf-4b26-c424-1d5c25fd8791"
      },
      "execution_count": null,
      "outputs": [
        {
          "output_type": "stream",
          "name": "stdout",
          "text": [
            "           date  cumulative_revenue\n",
            "0    2015-01-01             2713.85\n",
            "1    2015-01-02             5445.75\n",
            "2    2015-01-03             8108.15\n",
            "3    2015-01-04             9863.60\n",
            "4    2015-01-05            11929.55\n",
            "..          ...                 ...\n",
            "353  2015-12-27           810615.80\n",
            "354  2015-12-28           812253.00\n",
            "355  2015-12-29           813606.25\n",
            "356  2015-12-30           814944.05\n",
            "357  2015-12-31           817860.05\n",
            "\n",
            "[358 rows x 2 columns]\n"
          ]
        }
      ]
    },
    {
      "cell_type": "code",
      "source": [
        "# Q13: The top 3 most ordered pizza types based on revenue for each pizza category\n",
        "query13 = \"\"\"\n",
        "SELECT pt.category, pt.name, ROUND(SUM(p.price * od.quantity), 2) AS total_revenue\n",
        "FROM order_details od\n",
        "JOIN pizzas p ON od.pizza_id = p.pizza_id\n",
        "JOIN pizza_types pt ON p.pizza_type_id = pt.pizza_type_id\n",
        "GROUP BY pt.category, pt.name\n",
        "ORDER BY pt.category, total_revenue DESC\n",
        "LIMIT 3;\n",
        "\"\"\"\n",
        "\n",
        "# Execute the query\n",
        "result13 = psql.sqldf(query13, locals())\n",
        "print(result13)"
      ],
      "metadata": {
        "colab": {
          "base_uri": "https://localhost:8080/"
        },
        "id": "q2eGbglPKJKK",
        "outputId": "63744764-077c-4786-8a82-f8b14c2ed556"
      },
      "execution_count": null,
      "outputs": [
        {
          "output_type": "stream",
          "name": "stdout",
          "text": [
            "  category                          name  total_revenue\n",
            "0  Chicken        The Thai Chicken Pizza       43434.25\n",
            "1  Chicken    The Barbecue Chicken Pizza       42768.00\n",
            "2  Chicken  The California Chicken Pizza       41409.50\n"
          ]
        }
      ]
    }
  ]
}